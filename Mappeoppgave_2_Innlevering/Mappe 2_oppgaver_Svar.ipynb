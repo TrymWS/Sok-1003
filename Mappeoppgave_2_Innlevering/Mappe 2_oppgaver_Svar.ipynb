{
 "cells": [
  {
   "cell_type": "markdown",
   "id": "44d8d9ac-9714-458a-a55d-679e7f3990ab",
   "metadata": {},
   "source": [
    "# Mappeoppgave 2"
   ]
  },
  {
   "cell_type": "markdown",
   "id": "8c9e5c66-c191-45ef-a422-2d3ffe170cd1",
   "metadata": {},
   "source": [
    "#### Informasjon om oppgaven\n",
    "Når du besvarer oppgaven, husk: \n",
    "- les oppgaveteksten nøye\n",
    "- kommenter koden din\n",
    "- sett navn på akser og lignende i figurene\n",
    "- skriv hvor du har hentet kodesnutter fra, hvis du gjør det\n",
    "- bruk engelske variabelnavn og vær konsistent med hvordan du bruker store og små bokstaver\n",
    "- bruk mest mulig funksjoner for ting som kan repeteres\n",
    "- En kort kode kan være en bra kode, så ikke gjør det mer komplisert enn det spørres om.\n",
    "\n",
    "Du kan få full pott uten å svare på oppgaven som er markert \"ekstrapoeng\". Du blir likevel belønnet for denne (dvs. hvis du har noen feil og får 45 poeng totalt, så kan du få en høyere poengsum hvis du også har svart på \"ekstrapoeng\". \n",
    "\n",
    "#### Innlevering av oppgavene\n",
    "Du skal levere begge mappene samtidig (det vil si denne oppgaven og mappe 1). Innleveringsfristen er 6 desember kl 13:00. \n",
    "Begge oppgavene skal leveres i github (som jupyter-fil) og wiseflow (som PDF). Bruk navnet  \"SOK-1003-eksamen-2022-mappe2\" på filene.\n",
    "- For github: Husk å gi meg (brukernavn \"okaars\") tilgang til github-reposetoriet deres. Hvis dere har satt reposetoriet til public (anbefales ikke), må dere dele lenken til dette på ole.k.aars@uit.no\n",
    "- For wiseflow: En person fra hver gruppe (for hver mappeoppgave), leverer inn. Ved innlevering kan du krysse av hvem som er på gruppen din \n",
    "\n",
    "Se generell informasjon om hvordan man leverer oppgaven <th><a href='https://uit-sok-1003-h22.github.io/semesteroppgave.html'>her</a>.\n",
    "    \n",
    "<b> NB!:</b> En person fra gruppa må <a href='https://docs.google.com/forms/d/e/1FAIpQLSeljUukzUU5d-VbxyM4C0x4WUplhUKBCU5wIpPZl_bP5kN71A/viewform?usp=sf_link'> fylle ut dette skjemaet </a>  for å melde om hvem som er på gruppa. Dere vil i etterkant motta en epost om tidspunkt for presentasjon. \n",
    "    \n",
    "#### Presentasjon\n",
    "Presentasjonen innebærer en kort gjennomgang av oppgaven (10-15 min) etterfulgt av kommentarer fra meg (10-15 min). Alle gruppemedlemmer skal bidra til presentasjonen. Det er anbefalt å laste opp besvarelsen på github forut for presentasjonen (helst to dager før) slik at jeg har mulighet til å lese gjennom. Dere vil ha mulighet til å endre besvarelsen etter presentasjonen, frem til endelig innlevering 6 desember.\n",
    "\n",
    "\n"
   ]
  },
  {
   "cell_type": "markdown",
   "id": "06462796-016e-489b-ba82-74ab1e7ef659",
   "metadata": {},
   "source": [
    "### Oppgave 1 (10 poeng)"
   ]
  },
  {
   "cell_type": "markdown",
   "id": "e023ea65-979b-419f-adf7-cc3d9e3b8a96",
   "metadata": {},
   "source": [
    "a) Vi skal spille et spill der vi kaster en terning 6 ganger. Lag en funksjon med \"for-løkke\" som printer alle terningene som har blitt kastet. Du kan bruke `np.random.randint()` til å lage tilfeldige tall"
   ]
  },
  {
   "cell_type": "code",
   "execution_count": 2117,
   "id": "87606b7f-1d07-4f16-ad7b-8f8aebb00ff0",
   "metadata": {},
   "outputs": [
    {
     "name": "stdout",
     "output_type": "stream",
     "text": [
      "5\n",
      "5\n",
      "5\n",
      "5\n",
      "1\n",
      "5\n"
     ]
    }
   ],
   "source": [
    "import numpy as np\n",
    "#random seed\n",
    "#np.random.seed(1989)\n",
    "\n",
    "#for loop, rull terning 6 ganger\n",
    "for x in range(6):\n",
    "    dice = np.random.randint(1, 7)\n",
    "    print(dice)\n"
   ]
  },
  {
   "cell_type": "markdown",
   "id": "513b72af-3d26-4e95-a339-9741c9baec4c",
   "metadata": {},
   "source": [
    "b) Juster den samme funksjonen slik at den lagrer tallene i en liste før den printer ut selve listen. Dere kan kalle denne listen for `lot_numbers`. Dere kan vurdere å bruke `append()` som del av funksjonen. "
   ]
  },
  {
   "cell_type": "code",
   "execution_count": 2118,
   "id": "c6572aa3-75a2-4148-9945-7143e0215fab",
   "metadata": {},
   "outputs": [
    {
     "name": "stdout",
     "output_type": "stream",
     "text": [
      "[2, 3, 5, 1, 6, 4]\n"
     ]
    }
   ],
   "source": [
    "lot_numbers = []\n",
    "\n",
    "#random seed\n",
    "#np.random.seed(1989)\n",
    "\n",
    "#for loop, rull terning 6 ganger\n",
    "for x in range(6):\n",
    "    dice = np.random.randint(1, 7)\n",
    "\n",
    "    #Lag liste med terningkast\n",
    "    lot_numbers.append(dice)\n",
    "\n",
    "#print terningkast\n",
    "print(lot_numbers)"
   ]
  },
  {
   "cell_type": "markdown",
   "id": "82475b42-e595-4a0f-be43-79fcafd68ec6",
   "metadata": {},
   "source": [
    "c) Juster den samme funksjonen slik at den har to argument. Disse argumentene er to terningverdier som du \"tipper\" blir kastet. Bruk `if`, `else` og `elif` til å generere vinnertall. Resultatet fra funksjonen skal printe ut ulike setninger avhengig av om man får 0, 1 eller 2 rette. Setningene velger du selv, men de skal inneholde tallene som du tippet, og tallene som ble trukket.  "
   ]
  },
  {
   "cell_type": "code",
   "execution_count": 2119,
   "id": "c5be1693-2afc-462a-a978-eefaf621a038",
   "metadata": {},
   "outputs": [
    {
     "name": "stdout",
     "output_type": "stream",
     "text": [
      "Guessed 5, rolled 1; Loser!\n",
      "Guessed 5, rolled 6; Loser!\n",
      "Guessed 1, rolled 1; Winner, winner, chicken dinner!\n",
      "Guessed 4, rolled 1; Loser!\n",
      "Guessed 3, rolled 1; Loser!\n",
      "Guessed 2, rolled 6; Loser!\n"
     ]
    }
   ],
   "source": [
    "#start liste uten tall\n",
    "lot_numbers_2 = []\n",
    "#Lag liste med gjetninger\n",
    "lot_list = [5,5,1,4,3,2]\n",
    "\n",
    "#random seed om man vil ha det\n",
    "#np.random.seed(1989)\n",
    "\n",
    "#for loop, rull terning 6 ganger\n",
    "for x in range(6):\n",
    "    dice = np.random.randint(1, 7)\n",
    "    #lag liste av terningkast\n",
    "    lot_numbers_2.append(dice)\n",
    "\n",
    "#for loop for å sammenligne gjetninger og terningkast\n",
    "for x in range(6):\n",
    "    #hvis gjetning og terningkast er like\n",
    "    if lot_numbers_2[x] == lot_list[x]:\n",
    "        print(\"Guessed \" + str(lot_list[x]) + \", rolled \" + str(lot_numbers_2[x]) + \"; Winner, winner, chicken dinner!\")\n",
    "        #hvis gjetning og terningkast er ulike\n",
    "    else:\n",
    "        print(\"Guessed \" + str(lot_list[x]) + \", rolled \" + str(lot_numbers_2[x]) + \"; Loser!\")\n",
    "\n",
    "\n",
    "#print(lot_numbers_2)"
   ]
  },
  {
   "cell_type": "markdown",
   "id": "4b4172a9-635c-498b-bbbc-8444ba90fdbb",
   "metadata": {
    "tags": []
   },
   "source": [
    "### Oppgave 2 (10 poeng)\n",
    "a) Du har nå begynt å spille lotto i stedet, og satser alt på ett vinnertall. Lag en while-løkke som printer ut tall helt til du har trukket riktig tall (som du definerer selv). For enkelthets skyld kan du begrense utfallsrommet av trekningene til mellom 0-30."
   ]
  },
  {
   "cell_type": "code",
   "execution_count": 2120,
   "id": "56ab890f-b7a3-47a1-b605-3606e0324560",
   "metadata": {},
   "outputs": [
    {
     "name": "stdout",
     "output_type": "stream",
     "text": [
      "You guessed 8, but rolled 22. Try again!\n",
      "You guessed 8, but rolled 14. Try again!\n",
      "You guessed 8, but rolled 2. Try again!\n",
      "You guessed 8, but rolled 21. Try again!\n",
      "You guessed 8, but rolled 21. Try again!\n",
      "You guessed 8, but rolled 19. Try again!\n",
      "You guessed 8, but rolled 0. Try again!\n",
      "You guessed 8, but rolled 25. Try again!\n",
      "You guessed 8, but rolled 13. Try again!\n",
      "You guessed 8, but rolled 12. Try again!\n",
      "You guessed 8, but rolled 3. Try again!\n",
      "You guessed 8, but rolled 13. Try again!\n",
      "You guessed 8, but rolled 6. Try again!\n",
      "You guessed 8, but rolled 14. Try again!\n",
      "You guessed 8, but rolled 11. Try again!\n",
      "You guessed 8, but rolled 27. Try again!\n",
      "You guessed 8, but rolled 18. Try again!\n",
      "You guessed 8, but rolled 22. Try again!\n",
      "You guessed 8, but rolled 17. Try again!\n",
      "You guessed 8, but rolled 23. Try again!\n",
      "You guessed 8, but rolled 1. Try again!\n",
      "You guessed 8, but rolled 16. Try again!\n",
      "You guessed 8, but rolled 0. Try again!\n",
      "You guessed 8, and rolled 8. You win!!!\n"
     ]
    }
   ],
   "source": [
    "#takk vi gjetter på\n",
    "tall = 8\n",
    "#tall vi ruller\n",
    "roll = np.random.randint(0, 31)\n",
    "\n",
    "#while loop som kjører så lenge vi ikke har rullet riktig tall\n",
    "while roll != tall:\n",
    "    #printe ut tall vi ruller\n",
    "    print(\"You guessed \" + str(tall) + \", but rolled \" + str(roll) + \". Try again!\")\n",
    "    #tall vi ruller\n",
    "    roll = np.random.randint(0, 31)\n",
    "if roll == tall:\n",
    "    #printe ut tall som er riktig\n",
    "    print(\"You guessed \" + str(tall) + \", and rolled \" + str(roll) + \". You win!!!\")\n",
    "\n"
   ]
  },
  {
   "cell_type": "markdown",
   "id": "07c405a6-2ba7-4e14-89d8-159f3246a1da",
   "metadata": {},
   "source": [
    "b) Lag et plot av den while-løkken du nettopp lagde. Man blir belønnet om man; \n",
    "- bruker `scatter`; \n",
    "- lager plottet dynamisk (dvs at hver trekning vises hver for seg, og at x-aksen endrer seg etter en gitt verdi); \n",
    "- viser hvor når siste trekningen blir gjort (dvs at den vises kun når du har trukket vinnertallet).\n",
    "\n",
    "Avhengig av hvordan du lager figuren din kan du får bruk for å importere pakkene `Ellipse`, `display`, `clear_output`."
   ]
  },
  {
   "cell_type": "code",
   "execution_count": 2121,
   "id": "6987281c-d636-4595-a542-1b0d468f08f2",
   "metadata": {},
   "outputs": [],
   "source": [
    "#pakker som du kan få bruk for\n",
    "import matplotlib.pyplot as plt\n",
    "from matplotlib.patches import Ellipse\n",
    "from IPython.display import display, clear_output\n",
    "import time\n",
    "\n",
    "\n",
    "trekk = []\n",
    "tall = 8\n",
    "roll = np.random.randint(0, 31)\n",
    "\n",
    "\n",
    "\n",
    "while roll != tall:\n",
    "    trekk.append(roll)\n",
    "    #print(\"You guessed \" + str(tall) + \", but rolled \" + str(roll) + \". Try again!\")\n",
    "    roll = np.random.randint(0, 31)\n",
    "    \n",
    "if roll == tall:\n",
    "    trekk.append(roll)\n",
    "    #print(\"You guessed \" + str(tall) + \", and rolled \" + str(roll) + \". You win!!!\")\n",
    "\n",
    "length = list(range(1, len(trekk)+1))\n",
    "\n",
    "while x < len(trekk):\n",
    "    plt.subplots(figsize=(18, 6))\n",
    "    plt.axhline(y = 8, color = 'r', linestyle = '-')\n",
    "    plt.scatter(length[x], trekk[x], color = \"red\")\n",
    "    plt.plot(length, trekk, color = \"blue\")\n",
    "    plt.xlabel(\"Antall tall trukket\")\n",
    "    plt.ylabel(\"Trukket tall\")\n",
    "    plt.title(\"Lotto\")\n",
    "    plt.show()\n",
    " \n",
    "    x += 1\n",
    "    clear_output(wait=True)\n",
    "\n",
    "#plt.subplots(figsize=(18, 6))\n",
    "#plt.scatter(length, trekk)\n",
    "#plt.xlabel(\"Number of rolls\")\n",
    "#plt.ylabel(\"Dice roll\")\n",
    "#plt.title(\"Dice roll game\")\n",
    "\n",
    "#if roll == tall:\n",
    "    #plt.axhline(y = 8, color = 'r', linestyle = '-')\n",
    "\n",
    "\n",
    "#print(trekk)\n",
    "#print(len(trekk))\n",
    "#print(length)\n"
   ]
  },
  {
   "cell_type": "markdown",
   "id": "ce376b8a-4ab8-4f08-83cd-31e2a25d918c",
   "metadata": {},
   "source": [
    "c) Ekstrapoeng: gjør det samme som i (b), men lag et histogram som vises ved siden av. Dette histogrammet skal vise hvor mange ganger de ulike tallene ble trekt. Bruk `plt.hist` til dette. Husk at du må definere figur og akseobjekt først.  "
   ]
  },
  {
   "cell_type": "code",
   "execution_count": null,
   "id": "7daaa879-f592-44b5-94c0-cb023f6dba1e",
   "metadata": {},
   "outputs": [],
   "source": []
  },
  {
   "cell_type": "markdown",
   "id": "c8f4e513-42c3-4d3b-a781-e97e5c484c1d",
   "metadata": {},
   "source": [
    "### Oppgave 3 (20 poeng)"
   ]
  },
  {
   "cell_type": "markdown",
   "id": "e3685232-4e17-4460-b83e-bf5ac0fe626c",
   "metadata": {},
   "source": [
    "En bedrift produserer biler. Produktfunksjonen til bedriften defineres slik  $f(L, a, R) = 2RL^{a}$, hvor:\n",
    "- `L` er arbeidskraft, \n",
    "- `a` er produktiviteten til arbeiderne og \n",
    "- `R` er antall robotmaskiner\n",
    "\n",
    "a) Lag en formel for produktfunksjonen til bedriften og plot den grafisk med ulike verdier av `L` på x-aksen. Anta `a=0.6` og `R=2`"
   ]
  },
  {
   "cell_type": "code",
   "execution_count": null,
   "id": "3a30a765-dd60-4a26-a324-02d6a5c26eb9",
   "metadata": {},
   "outputs": [],
   "source": []
  },
  {
   "cell_type": "markdown",
   "id": "761b1c38-b798-4f13-b954-34ac93544549",
   "metadata": {},
   "source": [
    "b) anta at profittfunksjonen til denne bedriften er ${profit = f(L, a, R)p-wL-cR-K}$, hvor \n",
    "- `w` er månedslønnen til arbeiderne, \n",
    "- `c` er kostnaden for robotmaskinene \n",
    "- `K` er faste kostnader\n",
    "- `p` er utsalgsprisen på bilene. \n",
    "\n",
    "Anta `a=0.6`,`R=6`, `p=300 000`, `w=100 000`, `c= 1 000 000` og `K=90 000 000`. Plot profittfunksjonen figurativt for antall arbeidere (`L`) mellom 0 og 10 000. Vis profitten i millioner (dvs at du må dele på 1 000 000)"
   ]
  },
  {
   "cell_type": "code",
   "execution_count": null,
   "id": "4a64ccd4-98eb-4cd2-8c64-e1196187092b",
   "metadata": {},
   "outputs": [],
   "source": []
  },
  {
   "cell_type": "markdown",
   "id": "abec7c59-aa53-4350-bb7a-01b7ec2488ec",
   "metadata": {},
   "source": [
    "c) Plot profitttfunksjonen for antall robostmaskiner `R=[3, 6, 9]` i samme plot (dvs at tre profittfunksjoner vises sammen). Bruk av \"for loops\" for å gjøre dette belønnes"
   ]
  },
  {
   "cell_type": "code",
   "execution_count": null,
   "id": "e0d5dadb-c207-4ea2-9093-2edc9cffa6c5",
   "metadata": {},
   "outputs": [],
   "source": []
  },
  {
   "cell_type": "markdown",
   "id": "cd9c9d0d-f57c-4fb7-8869-b795f74ce934",
   "metadata": {},
   "source": [
    "d) finn profittmaksimum og optimal antall arbeidere ved hjelp av derivasjon med samme forutsetninger som i (1b). Bruk `sympy`-pakken til dette "
   ]
  },
  {
   "cell_type": "code",
   "execution_count": 2122,
   "id": "1081a59e-9f9f-4a2f-ab4d-a9139740ba5b",
   "metadata": {},
   "outputs": [],
   "source": [
    "#pakker du kan få bruk for\n",
    "import sympy as sp \n",
    "from sympy.solvers import solve\n"
   ]
  },
  {
   "cell_type": "markdown",
   "id": "d4614067-a66f-46d5-ae32-d641942554a1",
   "metadata": {},
   "source": [
    "e) vis figurativt med bruk av `fill_between` arealet hvor man taper penger (i rødt) og hvor man tjener penger (i grønt). Marker også profittmaksimum og antall arbeidere i profittmaksimum - gjerne ved bruk av `vlines`. Bruk ellers samme forutsetninger for argumentene som i oppgave (1b)"
   ]
  },
  {
   "cell_type": "code",
   "execution_count": null,
   "id": "267eccfe-d1ab-4e45-a1f4-63990001efc0",
   "metadata": {},
   "outputs": [],
   "source": []
  },
  {
   "cell_type": "markdown",
   "id": "c7c75529-8429-49bd-b475-c3809f0cc087",
   "metadata": {},
   "source": [
    "f) Plot nå to figurer sammen der du viser hva optimal antall arbeidere gir i profitt (slik som i (2e)) og produksjon av antall biler (som du får fra produktfunksjonen). Marker optimum med vlines. Ha grafen med profittfunksjonen over grafen med produktfunksjonen. Du kan bruke `fig, (ax1, ax2) = plt.subplots(2)` når du skal gjøre dette. <br>\n",
    "\n",
    "<b> Hint: </b> Du kan finne antall biler som blir produsert ved å bruke antall arbeidere i profittmaksimum, i produktfunksjonen.\n"
   ]
  },
  {
   "cell_type": "code",
   "execution_count": null,
   "id": "c257e111-e078-4a48-afa5-74ff2bef9d56",
   "metadata": {},
   "outputs": [],
   "source": []
  },
  {
   "cell_type": "markdown",
   "id": "405329a8-fe5e-45a0-bf3b-d1182af70c1f",
   "metadata": {},
   "source": [
    "### Oppgave 4 (10 poeng)\n",
    "I denne oppgaven skal vi hente ut et datasett fra eurostat på investeringer i hosholdningen. Bruk koden under til å hente ut dataene.\n",
    "<br><b>NB!:</b> Husk at dere må ha innstallert pakken `eurostat`. Dette gjør dere med å åpne \"Terminal\" og kjøre  `pip install eurostat`."
   ]
  },
  {
   "cell_type": "code",
   "execution_count": 2123,
   "id": "444371dc-188a-478a-86f5-4d3c0f36bfff",
   "metadata": {},
   "outputs": [],
   "source": [
    "import eurostat\n",
    "import pandas as pd\n",
    "\n",
    "inv_data = eurostat.get_data_df('tec00098')\n"
   ]
  },
  {
   "cell_type": "markdown",
   "id": "cfd54317-e3e2-437f-a9d5-26d941c3d9d5",
   "metadata": {},
   "source": [
    "a) Bytt navn på kolonnen \"geo\\\\time\" til \"country\" ved bruk av en av kodene under. Fjern så alle kolonner utenom \"country\" og alle årstallene. \n",
    "<br> <b>NB!:</b> Noen vil få en ekstra første kolonne som heter \"freq\" eller noe annet. Da må dere bruke versjon 2 av koden under. "
   ]
  },
  {
   "cell_type": "code",
   "execution_count": 2124,
   "id": "4dc833b6-7349-4773-9789-47d2da20015d",
   "metadata": {},
   "outputs": [],
   "source": [
    "#inv_data.columns = ['unit',   'sector',  'na_item', 'country'] + list(range(2010, 2022)) #v1\n"
   ]
  },
  {
   "cell_type": "code",
   "execution_count": 2125,
   "id": "2e3da626-a5e4-4ed5-af0f-29023179b077",
   "metadata": {},
   "outputs": [],
   "source": [
    "#stod country fra før så bare lot det stå...\n",
    "inv_data.columns = ['freq', 'unit',   'sector',  'na_item', 'country'] + list(range(2010, 2022)) #v2 \n"
   ]
  },
  {
   "cell_type": "code",
   "execution_count": 2126,
   "id": "2821141b-796b-4af2-a1da-810186947836",
   "metadata": {},
   "outputs": [
    {
     "name": "stdout",
     "output_type": "stream",
     "text": [
      "      country   2010   2011   2012   2013   2014   2015   2016   2017   2018  \\\n",
      "0          AT   8.44   8.60   8.47   8.58   8.30   8.36   8.29   8.69   8.81   \n",
      "1          BE   9.82   9.45   9.37   9.03   9.45   9.31   9.33   9.28   9.35   \n",
      "2          CH   6.83   6.48   6.29   6.31   6.20   6.26   6.13   6.07   6.06   \n",
      "3          CY  13.72  10.73   8.74   7.53   7.15   6.69   8.02   8.97  11.30   \n",
      "4          CZ  11.14   9.82   8.74   8.77   8.88   8.84   9.18   7.86   9.00   \n",
      "5          DE   8.72   9.51   9.61   9.56   9.65   9.32   9.62   9.48   9.68   \n",
      "6          DK   8.50   8.51   7.87   7.35   7.60   7.50   7.46   8.10   8.33   \n",
      "7        EA19   9.30   9.21   8.80   8.37   8.24   8.09   8.35   8.52   8.71   \n",
      "8          EE   6.14   6.47   6.84   7.52   7.79   7.94   8.52   8.99   8.68   \n",
      "9          EL   9.12   8.54   6.28   4.90   3.16   2.72   2.75   2.69   2.44   \n",
      "10         ES   9.66   7.85   6.48   4.84   4.72   4.57   4.60   5.17   5.42   \n",
      "11  EU27_2020   9.07   8.95   8.56   8.12   8.06   7.97   8.22   8.42   8.54   \n",
      "12       EU28   8.44   8.34   7.94   7.67   7.65   7.55   7.85   8.16   8.24   \n",
      "13         FI  11.66  12.18  12.12  11.49  10.88  10.49  11.57  12.09  12.50   \n",
      "14         FR   9.31   9.46   9.31   9.27   9.07   8.88   8.99   9.41   9.47   \n",
      "15         HR   5.96   5.66   5.53   5.01   4.78   4.91   4.96   5.01   5.35   \n",
      "16         HU   6.67   5.11   4.80   4.92   5.17   5.68   5.86   6.53   7.19   \n",
      "17         IE   6.01   4.96   4.12   4.29   4.41   4.72   5.26   5.50   6.27   \n",
      "18         IS   4.45   4.58   4.81   5.19   5.57    NaN    NaN    NaN    NaN   \n",
      "19         IT  10.33   9.82   9.20   8.42   7.78   7.58   7.68   7.74   7.77   \n",
      "20         LT   4.73   5.11   4.70   5.56   6.04   6.68   6.89   6.51   6.78   \n",
      "21         LU   9.69  11.26  10.43  11.34  12.75  12.34  12.48  12.35  11.45   \n",
      "22         LV   3.56   4.92   6.17   4.62   4.98   5.76   4.87   4.83   5.68   \n",
      "23         NL  10.05   9.54   8.47   7.46   8.10   9.08  10.60  10.80  11.52   \n",
      "24         NO   9.71  10.98  11.74  12.32  11.82  11.35  12.34  13.02  12.22   \n",
      "25         PL   7.99   7.92   8.24   7.59   7.86   7.88   7.52   6.88   5.84   \n",
      "26         PT   6.27   5.81   5.07   4.37   4.51   4.50   4.71   5.05   5.48   \n",
      "27         RS    NaN    NaN    NaN    NaN    NaN   2.63   3.25   3.17   3.21   \n",
      "28         SE   5.86   5.48   4.51   4.61   4.69   5.69   6.15   6.77   6.24   \n",
      "29         SI   6.92   6.30   5.78   5.50   5.65   5.81   5.85   6.28   6.51   \n",
      "30         SK   6.32   7.00   6.65   7.08   6.39   6.10   6.75   6.71   6.76   \n",
      "31         UK   4.96   5.02   4.95   5.27   5.67   5.84   6.16   6.77   6.62   \n",
      "\n",
      "     2019   2020   2021  \n",
      "0    9.03   9.21   9.99  \n",
      "1    9.78   9.15   9.94  \n",
      "2    5.69   5.42    NaN  \n",
      "3   12.98  13.12  13.26  \n",
      "4    9.45   9.34   9.24  \n",
      "5    9.71   9.95  10.55  \n",
      "6    8.57   8.69   9.24  \n",
      "7    8.77   8.53   9.51  \n",
      "8    9.26   9.94  10.04  \n",
      "9    2.59   2.97   3.40  \n",
      "10   5.54   5.34   6.68  \n",
      "11   8.60   8.33   9.19  \n",
      "12   8.39    NaN    NaN  \n",
      "13  12.25  11.91  12.50  \n",
      "14   9.62   8.57   9.95  \n",
      "15   6.37   6.40   6.45  \n",
      "16   7.52   8.87   8.30  \n",
      "17   4.92   4.27   5.29  \n",
      "18    NaN    NaN    NaN  \n",
      "19   7.64   7.20   8.69  \n",
      "20   7.09   7.04   7.39  \n",
      "21  10.34   9.71  11.33  \n",
      "22   5.85   5.30   4.62  \n",
      "23  12.15  12.22  12.96  \n",
      "24  11.89  11.29  11.11  \n",
      "25   5.93   5.18   6.59  \n",
      "26   5.65   5.69   6.10  \n",
      "27   3.35   2.97    NaN  \n",
      "28   5.88   6.48   6.84  \n",
      "29   6.33   5.64   6.20  \n",
      "30   6.79   6.93   7.04  \n",
      "31   6.81    NaN    NaN  \n"
     ]
    }
   ],
   "source": [
    "#drop kolonner som ikke er i bruk, individuelt\n",
    "df = inv_data.drop('freq', axis=1)\n",
    "df = df.drop('unit', axis=1)\n",
    "df = df.drop('sector', axis=1)\n",
    "df = df.drop('na_item', axis=1)\n",
    "\n",
    "print(df)"
   ]
  },
  {
   "cell_type": "markdown",
   "id": "fb718dfb-02b0-49fa-88d0-27fabc3a7948",
   "metadata": {},
   "source": [
    "b) fjern radene med nan verdi. Sett deretter indeksen til \"country\". <br> <b> Hint: </b> En metode er å bruke `isna()` og `any()` over radaksene (dvs. `axis=1`)"
   ]
  },
  {
   "cell_type": "code",
   "execution_count": 2127,
   "id": "834b2eda-b002-4bb1-ba63-6db7091c1127",
   "metadata": {},
   "outputs": [
    {
     "name": "stdout",
     "output_type": "stream",
     "text": [
      "            2010   2011   2012   2013   2014   2015   2016   2017   2018  \\\n",
      "country                                                                    \n",
      "AT          8.44   8.60   8.47   8.58   8.30   8.36   8.29   8.69   8.81   \n",
      "BE          9.82   9.45   9.37   9.03   9.45   9.31   9.33   9.28   9.35   \n",
      "CY         13.72  10.73   8.74   7.53   7.15   6.69   8.02   8.97  11.30   \n",
      "CZ         11.14   9.82   8.74   8.77   8.88   8.84   9.18   7.86   9.00   \n",
      "DE          8.72   9.51   9.61   9.56   9.65   9.32   9.62   9.48   9.68   \n",
      "DK          8.50   8.51   7.87   7.35   7.60   7.50   7.46   8.10   8.33   \n",
      "EA19        9.30   9.21   8.80   8.37   8.24   8.09   8.35   8.52   8.71   \n",
      "EE          6.14   6.47   6.84   7.52   7.79   7.94   8.52   8.99   8.68   \n",
      "EL          9.12   8.54   6.28   4.90   3.16   2.72   2.75   2.69   2.44   \n",
      "ES          9.66   7.85   6.48   4.84   4.72   4.57   4.60   5.17   5.42   \n",
      "EU27_2020   9.07   8.95   8.56   8.12   8.06   7.97   8.22   8.42   8.54   \n",
      "FI         11.66  12.18  12.12  11.49  10.88  10.49  11.57  12.09  12.50   \n",
      "FR          9.31   9.46   9.31   9.27   9.07   8.88   8.99   9.41   9.47   \n",
      "HR          5.96   5.66   5.53   5.01   4.78   4.91   4.96   5.01   5.35   \n",
      "HU          6.67   5.11   4.80   4.92   5.17   5.68   5.86   6.53   7.19   \n",
      "IE          6.01   4.96   4.12   4.29   4.41   4.72   5.26   5.50   6.27   \n",
      "IT         10.33   9.82   9.20   8.42   7.78   7.58   7.68   7.74   7.77   \n",
      "LT          4.73   5.11   4.70   5.56   6.04   6.68   6.89   6.51   6.78   \n",
      "LU          9.69  11.26  10.43  11.34  12.75  12.34  12.48  12.35  11.45   \n",
      "LV          3.56   4.92   6.17   4.62   4.98   5.76   4.87   4.83   5.68   \n",
      "NL         10.05   9.54   8.47   7.46   8.10   9.08  10.60  10.80  11.52   \n",
      "NO          9.71  10.98  11.74  12.32  11.82  11.35  12.34  13.02  12.22   \n",
      "PL          7.99   7.92   8.24   7.59   7.86   7.88   7.52   6.88   5.84   \n",
      "PT          6.27   5.81   5.07   4.37   4.51   4.50   4.71   5.05   5.48   \n",
      "SE          5.86   5.48   4.51   4.61   4.69   5.69   6.15   6.77   6.24   \n",
      "SI          6.92   6.30   5.78   5.50   5.65   5.81   5.85   6.28   6.51   \n",
      "SK          6.32   7.00   6.65   7.08   6.39   6.10   6.75   6.71   6.76   \n",
      "\n",
      "            2019   2020   2021  \n",
      "country                         \n",
      "AT          9.03   9.21   9.99  \n",
      "BE          9.78   9.15   9.94  \n",
      "CY         12.98  13.12  13.26  \n",
      "CZ          9.45   9.34   9.24  \n",
      "DE          9.71   9.95  10.55  \n",
      "DK          8.57   8.69   9.24  \n",
      "EA19        8.77   8.53   9.51  \n",
      "EE          9.26   9.94  10.04  \n",
      "EL          2.59   2.97   3.40  \n",
      "ES          5.54   5.34   6.68  \n",
      "EU27_2020   8.60   8.33   9.19  \n",
      "FI         12.25  11.91  12.50  \n",
      "FR          9.62   8.57   9.95  \n",
      "HR          6.37   6.40   6.45  \n",
      "HU          7.52   8.87   8.30  \n",
      "IE          4.92   4.27   5.29  \n",
      "IT          7.64   7.20   8.69  \n",
      "LT          7.09   7.04   7.39  \n",
      "LU         10.34   9.71  11.33  \n",
      "LV          5.85   5.30   4.62  \n",
      "NL         12.15  12.22  12.96  \n",
      "NO         11.89  11.29  11.11  \n",
      "PL          5.93   5.18   6.59  \n",
      "PT          5.65   5.69   6.10  \n",
      "SE          5.88   6.48   6.84  \n",
      "SI          6.33   5.64   6.20  \n",
      "SK          6.79   6.93   7.04  \n"
     ]
    }
   ],
   "source": [
    "#drop nan\n",
    "df_2 = df.dropna()\n",
    "#set index til country\n",
    "df_2.set_index('country', inplace=True)\n",
    "\n",
    "print(df_2)"
   ]
  },
  {
   "cell_type": "markdown",
   "id": "f68af0f0-770f-4217-8491-723e8cc7480e",
   "metadata": {},
   "source": [
    "c) Lag et nytt datasett hvor du kun har med de nordiske landene (dvs. \"NO\", \"SE\", \"DK\", \"FI\"). Det kan være nyttig å bruke `isin` til dette. Bytt så om på kolonner og rader ved hjelp av `transpose`. "
   ]
  },
  {
   "cell_type": "code",
   "execution_count": 2128,
   "id": "a82331aa-405e-4414-a088-546298c32291",
   "metadata": {},
   "outputs": [
    {
     "name": "stdout",
     "output_type": "stream",
     "text": [
      "          2010   2011   2012   2013   2014   2015   2016   2017   2018   2019  \\\n",
      "country                                                                         \n",
      "DK        8.50   8.51   7.87   7.35   7.60   7.50   7.46   8.10   8.33   8.57   \n",
      "FI       11.66  12.18  12.12  11.49  10.88  10.49  11.57  12.09  12.50  12.25   \n",
      "NO        9.71  10.98  11.74  12.32  11.82  11.35  12.34  13.02  12.22  11.89   \n",
      "SE        5.86   5.48   4.51   4.61   4.69   5.69   6.15   6.77   6.24   5.88   \n",
      "\n",
      "          2020   2021  \n",
      "country                \n",
      "DK        8.69   9.24  \n",
      "FI       11.91  12.50  \n",
      "NO       11.29  11.11  \n",
      "SE        6.48   6.84  \n"
     ]
    }
   ],
   "source": [
    "#liste for landene jeg vll ha\n",
    "nordic = ['NO', 'SE', 'FI', 'DK']\n",
    "\n",
    "#velg ut nordiske land\n",
    "df_nordic = df.loc[df['country'].isin(nordic)]\n",
    "#set index til country, siden det funka dårlig å velge fra df etter jeg hadde satt land som index\n",
    "df_nordic.set_index('country', inplace=True)\n",
    "\n",
    "print(df_nordic)\n"
   ]
  },
  {
   "cell_type": "markdown",
   "id": "2d49e2bb-b44e-4558-b279-1bc10a1ba6ab",
   "metadata": {},
   "source": [
    "d) Lag en ny kolonne som du kaller \"mean\". Denne skal være gjennomsnittet av alle de nordiske landene for hvert av årene (dvs at du må ta gjennomsnittet over radene). Plot så dette og kall y-aksen for \"investering\""
   ]
  },
  {
   "cell_type": "code",
   "execution_count": 2135,
   "id": "c78d7898-1931-4b4c-a4ac-f0bd1a4b3499",
   "metadata": {},
   "outputs": [
    {
     "name": "stdout",
     "output_type": "stream",
     "text": [
      "            2010     2011   2012     2013     2014     2015   2016    2017  \\\n",
      "country                                                                      \n",
      "DK        8.5000   8.5100   7.87   7.3500   7.6000   7.5000   7.46   8.100   \n",
      "FI       11.6600  12.1800  12.12  11.4900  10.8800  10.4900  11.57  12.090   \n",
      "NO        9.7100  10.9800  11.74  12.3200  11.8200  11.3500  12.34  13.020   \n",
      "SE        5.8600   5.4800   4.51   4.6100   4.6900   5.6900   6.15   6.770   \n",
      "Mean      8.9325   9.2875   9.06   8.9425   8.7475   8.7575   9.38   9.995   \n",
      "\n",
      "            2018     2019     2020     2021  \n",
      "country                                      \n",
      "DK        8.3300   8.5700   8.6900   9.2400  \n",
      "FI       12.5000  12.2500  11.9100  12.5000  \n",
      "NO       12.2200  11.8900  11.2900  11.1100  \n",
      "SE        6.2400   5.8800   6.4800   6.8400  \n",
      "Mean      9.8225   9.6475   9.5925   9.9225  \n"
     ]
    },
    {
     "name": "stderr",
     "output_type": "stream",
     "text": [
      "C:\\Users\\Trym\\AppData\\Local\\Temp\\ipykernel_7624\\2298402199.py:7: FutureWarning: The frame.append method is deprecated and will be removed from pandas in a future version. Use pandas.concat instead.\n",
      "  df_nordic_mean = df_nordic_mean.append(mean, ignore_index=True)\n"
     ]
    },
    {
     "data": {
      "image/png": "[encoded data removed]",
      "text/plain": [
       "<Figure size 1800x600 with 1 Axes>"
      ]
     },
     "metadata": {},
     "output_type": "display_data"
    }
   ],
   "source": [
    "#antar at spørsmålet er å finne gjennomsnittet av investeringer i nordiske land per år, og lager en rad.\n",
    "\n",
    "df_nordic_mean = df.loc[df['country'].isin(nordic)]\n",
    "\n",
    "mean = df_nordic.mean(axis=0)\n",
    "\n",
    "df_nordic_mean = df_nordic_mean.append(mean, ignore_index=True)\n",
    "\n",
    "df_nordic_mean.set_index('country', inplace=True)\n",
    "\n",
    "df_nordic_mean.rename(index={df_nordic_mean.index[-1]: \"Mean\"}, inplace=True)\n",
    "\n",
    "print(df_nordic_mean)\n",
    "\n",
    "plt.subplots(figsize=(18, 6))\n",
    "plt.plot(df_nordic_mean.loc['Mean'])\n",
    "plt.xlabel(\"År\")\n",
    "plt.ylabel(\"Investering\")\n",
    "plt.title(\"Eurostat: Investeringer i nordiske land\")\n",
    "plt.show()"
   ]
  }
 ],
 "metadata": {
  "kernelspec": {
   "display_name": "Python 3.10.8 64-bit (microsoft store)",
   "language": "python",
   "name": "python3"
  },
  "language_info": {
   "codemirror_mode": {
    "name": "ipython",
    "version": 3
   },
   "file_extension": ".py",
   "mimetype": "text/x-python",
   "name": "python",
   "nbconvert_exporter": "python",
   "pygments_lexer": "ipython3",
   "version": "3.10.8"
  },
  "vscode": {
   "interpreter": {
    "hash": "1de2df145f3428cd0b202b24c2a332898b43bf0ff2ac6766bb3d54c487cfc6e4"
   }
  }
 },
 "nbformat": 4,
 "nbformat_minor": 5
}
